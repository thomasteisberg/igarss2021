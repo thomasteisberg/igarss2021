{
 "cells": [
  {
   "cell_type": "code",
   "execution_count": null,
   "metadata": {},
   "outputs": [],
   "source": [
    "import os\n",
    "from netCDF4 import Dataset\n",
    "import matplotlib\n",
    "import matplotlib.pyplot as plt\n",
    "import numpy as np\n",
    "import scipy.interpolate, scipy.ndimage\n",
    "import pickle\n",
    "import pyproj\n",
    "import copy\n",
    "import pandas as pd\n",
    "import glob\n",
    "\n",
    "np.random.seed(42)"
   ]
  },
  {
   "cell_type": "markdown",
   "metadata": {},
   "source": [
    "### Load and interpolate data sources"
   ]
  },
  {
   "cell_type": "code",
   "execution_count": null,
   "metadata": {},
   "outputs": [],
   "source": [
    "data_dir = '/home/teisberg/data/common_data/'\n",
    "\n",
    "nc_measure = Dataset(os.path.join(data_dir, 'antarctica_ice_velocity_450m_v2.nc'))\n",
    "nc_bedmachine = Dataset(os.path.join(data_dir, 'BedMachineAntarctica_2019-11-05_v01.nc'))"
   ]
  },
  {
   "cell_type": "code",
   "execution_count": null,
   "metadata": {},
   "outputs": [],
   "source": [
    "crs_latlon = pyproj.crs.CRS.from_proj4(\"+proj=latlon\")\n",
    "crs_epsg3031 = pyproj.crs.CRS.from_epsg(3031)\n",
    "transformer_latlon_to_3031 = pyproj.Transformer.from_crs(crs_latlon, crs_epsg3031)"
   ]
  },
  {
   "cell_type": "code",
   "execution_count": null,
   "metadata": {},
   "outputs": [],
   "source": [
    "start_point = [550e3, -0.8e6] # Byrd\n",
    "X_ctr, Y_ctr = start_point\n",
    "size_x, size_y = 200e3, 200e3"
   ]
  },
  {
   "cell_type": "code",
   "execution_count": null,
   "metadata": {},
   "outputs": [],
   "source": [
    "x = np.array(nc_bedmachine.variables['x'])\n",
    "y = np.array(nc_bedmachine.variables['y'])\n",
    "mask_x = (x > (X_ctr - size_x)) & (x < (X_ctr + size_x))\n",
    "mask_y = (y > (Y_ctr - size_y)) & (y < (Y_ctr + size_y))\n",
    "bm_X, bm_Y = np.meshgrid(x[mask_x], y[mask_y])\n",
    "bm_h = np.array(nc_bedmachine.variables['thickness'])[mask_y, :][:, mask_x]\n",
    "bm_source = np.array(nc_bedmachine.variables['source'])[mask_y, :][:, mask_x]\n",
    "bm_mask = np.array(nc_bedmachine.variables['mask'])[mask_y, :][:, mask_x]\n",
    "bm_surface = np.array(nc_bedmachine.variables['surface'])[mask_y, :][:, mask_x]\n",
    "\n",
    "x = np.array(nc_measure.variables['x'])\n",
    "y = np.array(nc_measure.variables['y'])\n",
    "mask_x = (x > (X_ctr - size_x)) & (x < (X_ctr + size_x))\n",
    "mask_y = (y > (Y_ctr - size_y)) & (y < (Y_ctr + size_y))\n",
    "measure_X, measure_Y = np.meshgrid(x[mask_x], y[mask_y])\n",
    "measure_vx = np.array(nc_measure.variables['VX'])[mask_y, :][:, mask_x]\n",
    "measure_vy = np.array(nc_measure.variables['VY'])[mask_y, :][:, mask_x]"
   ]
  },
  {
   "cell_type": "code",
   "execution_count": null,
   "metadata": {},
   "outputs": [],
   "source": [
    "# Interpolate everything to the BedMachine 450 m grid\n",
    "bm_vx = scipy.interpolate.griddata((measure_X.flatten(), measure_Y.flatten()), measure_vx.flatten(),\n",
    "                                   (bm_X, bm_Y))\n",
    "bm_vy = scipy.interpolate.griddata((measure_X.flatten(), measure_Y.flatten()), measure_vy.flatten(),\n",
    "                                   (bm_X, bm_Y))\n",
    "\n",
    "vx_interp = scipy.interpolate.LinearNDInterpolator((measure_X.flatten(), measure_Y.flatten()), measure_vx.flatten())\n",
    "vy_interp = scipy.interpolate.LinearNDInterpolator((measure_X.flatten(), measure_Y.flatten()), measure_vy.flatten())\n",
    "h_interp = scipy.interpolate.LinearNDInterpolator((bm_X.flatten(), bm_Y.flatten()), bm_h.flatten())"
   ]
  },
  {
   "cell_type": "code",
   "execution_count": null,
   "metadata": {},
   "outputs": [],
   "source": [
    "# Load cresis data\n",
    "\n",
    "cresis_2017_basler = pd.read_csv(os.path.join(data_dir, \"cresis/Browse_2017_Antarctica_Basler.csv\")).rename(columns = {'UTCTIMESOD': 'TIME'}) # TODO: See note below!\n",
    "# The name of the time column changed at some point. We don't use the time column, so I'm just renaming it to avoid it being NaN later. If you want to use the time for anything, check on this!\n",
    "cresis_2011_dc8 = pd.read_csv(os.path.join(data_dir, \"cresis/Browse_2011_Antarctica_DC8.csv\"))\n",
    "cresis_2011_to = pd.read_csv(os.path.join(data_dir, \"cresis/2011_Antarctica_TO.csv\"))\n",
    "cresis_df = pd.concat([cresis_2011_dc8, cresis_2011_to, cresis_2017_basler])\n",
    "cresis_df = cresis_df[['LAT', 'LON', 'THICK']]\n",
    "cresis_df['SOURCE'] = 'cresis'"
   ]
  },
  {
   "cell_type": "code",
   "execution_count": null,
   "metadata": {},
   "outputs": [],
   "source": [
    "# Load HiCARS data\n",
    "\n",
    "headers = \"YEAR DOY SOD LON LAT THICK SRF_RNG BED_ELEVATION SURFACE_ELEVATION PARTIAL_BED_REFLECT SRF_RELFECT AIRCRAFT_ROLL\".split(' ')\n",
    "# Note I renamed THK to THICK for consistency with cresis data\n",
    "\n",
    "all_dfs = []\n",
    "\n",
    "for f in glob.iglob(data_dir + r'hicars-byrd/**/*icethk.txt', recursive=True):\n",
    "    df = pd.read_csv(f, sep=' ', comment='#', names=headers, index_col=False)\n",
    "    df = df[['LON', 'LAT', 'THICK']].dropna()\n",
    "    all_dfs.append(df)\n",
    "\n",
    "hicars_df = pd.concat(all_dfs).reset_index(drop=True)\n",
    "hicars_df['SOURCE'] = 'hicars'"
   ]
  },
  {
   "cell_type": "code",
   "execution_count": null,
   "metadata": {},
   "outputs": [],
   "source": [
    "radar_df = pd.concat([cresis_df, hicars_df]).reset_index(drop=True)\n",
    "\n",
    "radar_proj = [transformer_latlon_to_3031.transform(lon, lat) for lat,lon in zip(radar_df['LAT'], radar_df['LON'])]\n",
    "radar_df['X'] = [a[0] for a in radar_proj]\n",
    "radar_df['Y'] = [a[1] for a in radar_proj]\n",
    "\n",
    "\n",
    "radar_df['BM_DIFF'] = [h_interp((x,y))-h for x,y,h in zip(radar_df['X'], radar_df['Y'], radar_df['THICK'])]\n",
    "\n",
    "radar_df = radar_df.dropna()\n",
    "radar_df = radar_df[radar_df['THICK'] >= 0] # No negative ice thicknesses plz\n",
    "\n",
    "radar_kdtree = scipy.spatial.KDTree(np.array(list(zip(radar_df['X'], radar_df['Y']))))"
   ]
  },
  {
   "cell_type": "code",
   "execution_count": null,
   "metadata": {},
   "outputs": [],
   "source": [
    "fig, axs = plt.subplots(2, 3, figsize=(18,8), facecolor='white', sharex=True, sharey=True)\n",
    "\n",
    "h_norm = matplotlib.colors.Normalize(vmin=0, vmax=np.max(bm_h))\n",
    "\n",
    "pcm0 = axs[0,0].pcolormesh(bm_X, bm_Y, bm_h, norm=h_norm, shading='nearest')\n",
    "clb0 = fig.colorbar(pcm0, ax=axs[0,0])\n",
    "clb0.set_label('BedMachine Ice Thickness [m]')\n",
    "axs[0,0].set_aspect('equal')\n",
    "\n",
    "pcm1 = axs[0,1].pcolormesh(measure_X, measure_Y, np.sqrt(measure_vx**2 + measure_vy**2), shading='nearest')\n",
    "arrow_subsample = 20\n",
    "axs[0,1].quiver(measure_X[::arrow_subsample,::arrow_subsample],\n",
    "              measure_Y[::arrow_subsample,::arrow_subsample],\n",
    "              measure_vx[::arrow_subsample,::arrow_subsample],\n",
    "              measure_vy[::arrow_subsample,::arrow_subsample],\n",
    "              angles='xy', color='white', scale=5e4)\n",
    "clb1 = fig.colorbar(pcm1, ax=axs[0,1])\n",
    "clb1.set_label('MEaSURE Ice Velocity [m/yr]')\n",
    "axs[0,1].set_aspect('equal')\n",
    "\n",
    "bedmachine_source_key = {k: v for k, v in zip(nc_bedmachine.variables['source'].flag_values,\n",
    "                                              nc_bedmachine.variables['source'].flag_meanings.split())}\n",
    "pcm2 = axs[1,0].pcolormesh(bm_X, bm_Y, bm_source, vmin=1, vmax=10, cmap=plt.cm.get_cmap('terrain', 11), shading='nearest')\n",
    "formatter2 = plt.FuncFormatter(lambda val, loc: bedmachine_source_key.get(val, \"\"))\n",
    "clb2 = fig.colorbar(pcm2, ax=axs[1,0], format=formatter2)\n",
    "clb2.set_label('BedMachine Ice Thickness Source')\n",
    "axs[1,0].set_aspect('equal')\n",
    "\n",
    "bedmachine_mask_key = {k: v for k, v in zip(nc_bedmachine.variables['mask'].flag_values,\n",
    "                                              nc_bedmachine.variables['mask'].flag_meanings.split())}\n",
    "pcm3 = axs[1,1].pcolormesh(bm_X, bm_Y, bm_mask, vmin=1, vmax=4, cmap=plt.cm.get_cmap('terrain', 11), shading='nearest')\n",
    "formatter3 = plt.FuncFormatter(lambda val, loc: bedmachine_mask_key.get(val, \"\"))\n",
    "clb3 = fig.colorbar(pcm3, ax=axs[1,1], format=formatter3)\n",
    "clb3.set_label('BedMachine Mask')\n",
    "axs[1,1].set_aspect('equal')\n",
    "\n",
    "pcm4 = axs[0,2].scatter(radar_df['X'], radar_df['Y'], c=radar_df['THICK'], norm=h_norm, s=0.1)\n",
    "clb4 = fig.colorbar(pcm4, ax=axs[0,2])\n",
    "clb4.set_label('Radar Ice Thickness [m]')\n",
    "axs[0,2].set_aspect('equal')\n",
    "\n",
    "sc = axs[1,2].scatter(radar_df['X'], radar_df['Y'], c=radar_df['BM_DIFF'], s=0.1, cmap=matplotlib.cm.get_cmap('coolwarm'), vmin=-200, vmax=200)\n",
    "clb5 = fig.colorbar(sc, ax=axs[1,2])\n",
    "axs[1,2].set_aspect('equal')\n",
    "clb5.set_label('Bed Machine Thickness - Radar Thickness')\n",
    "\n",
    "axs[1,0].tick_params(axis='x', labelrotation=45) \n",
    "axs[1,1].tick_params(axis='x', labelrotation=45)\n",
    "axs[1,2].tick_params(axis='x', labelrotation=45)\n",
    "\n",
    "fig.tight_layout()\n",
    "\n",
    "plt.show()"
   ]
  },
  {
   "cell_type": "code",
   "execution_count": null,
   "metadata": {},
   "outputs": [],
   "source": [
    "ice_free_mask = bm_mask == 1\n",
    "\n",
    "data_dict = {\n",
    "        'radar': {\n",
    "            'x': np.concatenate([np.array(radar_df['X']), bm_X[ice_free_mask]]),\n",
    "            'y': np.concatenate([np.array(radar_df['Y']), bm_Y[ice_free_mask]]),\n",
    "            'h': np.concatenate([np.array(radar_df['THICK']), 0*bm_Y[ice_free_mask]])\n",
    "        },\n",
    "        'bedmachine': {\n",
    "            'x': bm_X,\n",
    "            'y': bm_Y,\n",
    "            'h': bm_h\n",
    "        },\n",
    "        'velocity': {\n",
    "            'x': measure_X,\n",
    "            'y': measure_Y,\n",
    "            'vx': measure_vx,\n",
    "            'vy': measure_vy\n",
    "        }\n",
    "    }\n",
    "\n",
    "# Add in interpolated velocity to radar data\n",
    "    \n",
    "tree = scipy.spatial.KDTree(list(zip(measure_X.flatten(), measure_Y.flatten())))\n",
    "    \n",
    "vals_out = []\n",
    "for x, y in zip(data_dict['radar']['x'], data_dict['radar']['y']):\n",
    "    dist, idx = tree.query((x,y), k=1)\n",
    "    vals_out.append(np.sqrt(measure_vx.flatten()[idx]**2 + measure_vy.flatten()[idx]**2))\n",
    "\n",
    "data_dict['radar']['v_nn'] = np.array(vals_out)"
   ]
  },
  {
   "cell_type": "code",
   "execution_count": null,
   "metadata": {},
   "outputs": [],
   "source": [
    "with open('byrd-data.pickle', 'wb') as f:\n",
    "    pickle.dump(data_dict, f)"
   ]
  },
  {
   "cell_type": "code",
   "execution_count": null,
   "metadata": {},
   "outputs": [],
   "source": []
  }
 ],
 "metadata": {
  "kernelspec": {
   "display_name": "Python [conda env:tf3]",
   "language": "python",
   "name": "conda-env-tf3-py"
  },
  "language_info": {
   "codemirror_mode": {
    "name": "ipython",
    "version": 3
   },
   "file_extension": ".py",
   "mimetype": "text/x-python",
   "name": "python",
   "nbconvert_exporter": "python",
   "pygments_lexer": "ipython3",
   "version": "3.8.5"
  }
 },
 "nbformat": 4,
 "nbformat_minor": 4
}
