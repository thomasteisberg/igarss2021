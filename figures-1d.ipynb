{
 "cells": [
  {
   "cell_type": "code",
   "execution_count": null,
   "metadata": {},
   "outputs": [],
   "source": [
    "%load_ext autoreload\n",
    "%autoreload 2\n",
    "\n",
    "import pickle\n",
    "import yaml\n",
    "import copy\n",
    "import os\n",
    "\n",
    "import tensorflow as tf\n",
    "import numpy as np\n",
    "import matplotlib.pyplot as plt\n",
    "import matplotlib\n",
    "\n",
    "from netCDF4 import Dataset\n",
    "\n",
    "import wandb\n",
    "\n",
    "from dataset import PINNDataset\n",
    "from model import PINN\n",
    "from visualization import GeneratorVisualizationCallback"
   ]
  },
  {
   "cell_type": "code",
   "execution_count": null,
   "metadata": {},
   "outputs": [],
   "source": [
    "matplotlib.use('svg')\n",
    "figure_params = { \"font.family\": 'Times', \"font.size\": 12, \"font.serif\": [], \"svg.fonttype\": 'none'}\n",
    "matplotlib.rcParams.update(figure_params)"
   ]
  },
  {
   "cell_type": "markdown",
   "metadata": {},
   "source": [
    "## Load Data and Saved Model"
   ]
  },
  {
   "cell_type": "code",
   "execution_count": null,
   "metadata": {},
   "outputs": [],
   "source": [
    "api = wandb.Api()\n",
    "run_tag = \"33b55t6g\" #model loss: \"33b55t6g\" no model loss: \"7dj3sms2\"\n",
    "run = api.run(f\"teisberg/igarss2021/{run_tag}\")\n",
    "for file in run.files():\n",
    "    if file.name.startswith('gen_model/'):\n",
    "        file.download(root='downloaded_model_1d/', replace=True)\n",
    "    if file.name == 'config.yaml':\n",
    "        file.download(root='downloaded_model_1d/', replace=True)"
   ]
  },
  {
   "cell_type": "code",
   "execution_count": null,
   "metadata": {},
   "outputs": [],
   "source": [
    "model_path = 'downloaded_model_1d/gen_model'\n",
    "parameter_yaml_filename = 'downloaded_model_1d/config.yaml'\n",
    "\n",
    "#\n",
    "# Parameters\n",
    "#\n",
    "\n",
    "with open(parameter_yaml_filename) as f:\n",
    "    config = yaml.load(f, Loader=yaml.FullLoader)\n",
    "    \n",
    "for k in config:\n",
    "    if isinstance(config[k], dict):\n",
    "        config[k] = config[k]['value']\n",
    "\n",
    "config['wandb'] = False\n",
    "print(config)\n",
    "\n",
    "#\n",
    "# Data Loading\n",
    "#\n",
    "\n",
    "with open(config['input_data_filename'], 'rb') as f:\n",
    "    data = pickle.load(f)\n",
    "\n",
    "dataset = PINNDataset(data, batch_size=config['batch_size'],\n",
    "                        mode=config['mode'], n_random=config['n_random_points'])\n",
    "\n",
    "#\n",
    "# Create model\n",
    "#\n",
    "\n",
    "model = PINN(config, dataset, gen_model_filename=model_path)"
   ]
  },
  {
   "cell_type": "markdown",
   "metadata": {},
   "source": [
    "## Whole Domain"
   ]
  },
  {
   "cell_type": "code",
   "execution_count": null,
   "metadata": {},
   "outputs": [],
   "source": [
    "visualizer_callback = GeneratorVisualizationCallback(config, dataset, model)\n",
    "\n",
    "roi = copy.copy(config['eval_regions'][0])\n",
    "print(roi['title'])\n",
    "roi['spacing'] = 100\n",
    "\n",
    "x, _, pred = visualizer_callback.roi_prediction(roi)\n",
    "\n",
    "fig, ax = plt.subplots(figsize=(6,2))\n",
    "ax.scatter(dataset.r['x'], dataset.r['h'], label='Measurements', s=8)\n",
    "ax.plot(data['truth']['x'], data['truth']['h'], '--', label='True')\n",
    "ax.plot(x, pred['h'], label='Predicted')\n",
    "\n",
    "ax.set_xlabel('Distance along flowline [m]')\n",
    "ax.set_ylabel('Ice thickness [m]')\n",
    "\n",
    "ax.legend()\n",
    "\n",
    "rect = matplotlib.patches.Rectangle((1800, 725),\n",
    "                                        2000, 75,\n",
    "                                        linewidth=1, edgecolor='red', facecolor='none')\n",
    "ax.add_patch(rect)\n",
    "\n",
    "fig.savefig(f'figures/results-1d-{run_tag}.svg', format='svg', dpi=1000)"
   ]
  },
  {
   "cell_type": "code",
   "execution_count": null,
   "metadata": {},
   "outputs": [],
   "source": [
    "fig, ax = plt.subplots(figsize=(2,1))\n",
    "ax.scatter(dataset.r['x'], dataset.r['h'], label='Measurements', s=8)\n",
    "ax.plot(data['truth']['x'], data['truth']['h'], '--', label='True')\n",
    "ax.plot(x, pred['h'], label='Predicted')\n",
    "ax.set_xlim(1800,3800)\n",
    "ax.set_ylim(725,800)\n",
    "\n",
    "fig.savefig(f'figures/results-1d-{run_tag}-zoom.svg', format='svg', dpi=1000)"
   ]
  },
  {
   "cell_type": "code",
   "execution_count": null,
   "metadata": {},
   "outputs": [],
   "source": []
  }
 ],
 "metadata": {
  "kernelspec": {
   "display_name": "Python [conda env:tf3]",
   "language": "python",
   "name": "conda-env-tf3-py"
  },
  "language_info": {
   "codemirror_mode": {
    "name": "ipython",
    "version": 3
   },
   "file_extension": ".py",
   "mimetype": "text/x-python",
   "name": "python",
   "nbconvert_exporter": "python",
   "pygments_lexer": "ipython3",
   "version": "3.8.5"
  }
 },
 "nbformat": 4,
 "nbformat_minor": 4
}
